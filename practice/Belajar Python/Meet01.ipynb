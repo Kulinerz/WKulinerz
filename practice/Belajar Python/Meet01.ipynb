{
 "cells": [
  {
   "cell_type": "code",
   "execution_count": 3,
   "metadata": {},
   "outputs": [
    {
     "name": "stdout",
     "output_type": "stream",
     "text": [
      "80\n"
     ]
    }
   ],
   "source": [
    "nilai = 80\n",
    "print(nilai)"
   ]
  },
  {
   "cell_type": "code",
   "execution_count": 4,
   "metadata": {},
   "outputs": [
    {
     "name": "stdout",
     "output_type": "stream",
     "text": [
      "8\n",
      "9\n"
     ]
    }
   ],
   "source": [
    "x=8\n",
    "y=9\n",
    "print(x)\n",
    "print(y)"
   ]
  },
  {
   "cell_type": "markdown",
   "metadata": {},
   "source": [
    "STRING\n"
   ]
  },
  {
   "cell_type": "code",
   "execution_count": 39,
   "metadata": {},
   "outputs": [
    {
     "name": "stdout",
     "output_type": "stream",
     "text": [
      "ini adalah string9\n",
      "ini adalah string 9\n",
      "ini hari jumat\n",
      "ini hari jumat 9\n",
      "nilainya yaitu :\n",
      " 9\n"
     ]
    }
   ],
   "source": [
    "nilai= 9\n",
    "\n",
    "print(\"ini adalah string\" + str(nilai))\n",
    "print('ini adalah string', nilai)\n",
    "print(\"ini hari jumat\")\n",
    "print('ini hari jumat', nilai)\n",
    "print(\"nilainya yaitu :\\n\", str (nilai))"
   ]
  }
 ],
 "metadata": {
  "kernelspec": {
   "display_name": "Python 3",
   "language": "python",
   "name": "python3"
  },
  "language_info": {
   "codemirror_mode": {
    "name": "ipython",
    "version": 3
   },
   "file_extension": ".py",
   "mimetype": "text/x-python",
   "name": "python",
   "nbconvert_exporter": "python",
   "pygments_lexer": "ipython3",
   "version": "3.12.0"
  },
  "orig_nbformat": 4
 },
 "nbformat": 4,
 "nbformat_minor": 2
}
